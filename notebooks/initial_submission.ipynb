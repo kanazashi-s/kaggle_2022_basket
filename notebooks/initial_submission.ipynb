{
 "cells": [
  {
   "cell_type": "code",
   "execution_count": 5,
   "metadata": {
    "collapsed": true
   },
   "outputs": [],
   "source": [
    "import pandas as pd\n",
    "\n",
    "df = pd.read_csv(\"../data/raw/MDataFiles_Stage1/MNCAATourneyDetailedResults.csv\")"
   ]
  },
  {
   "cell_type": "code",
   "execution_count": 8,
   "outputs": [],
   "source": [
    "df_1 = df.copy()\n",
    "df_1.columns = df_1.columns.str.replace('W', 'A')\n",
    "df_1.columns = df_1.columns.str.replace('L', 'B')\n",
    "df_1['is_AWin'] = 1\n",
    "\n",
    "df_2 = df.copy()\n",
    "df_2.columns = df_2.columns.str.replace('W', 'B')\n",
    "df_2.columns = df_2.columns.str.replace('L', 'A')\n",
    "df_2['is_AWin'] = 0"
   ],
   "metadata": {
    "collapsed": false,
    "pycharm": {
     "name": "#%%\n"
    }
   }
  },
  {
   "cell_type": "code",
   "execution_count": 15,
   "outputs": [],
   "source": [
    "base_df = pd.concat([df_1, df_2])[['Season', 'ATeamID', 'BTeamID', 'is_AWin']]"
   ],
   "metadata": {
    "collapsed": false,
    "pycharm": {
     "name": "#%%\n"
    }
   }
  },
  {
   "cell_type": "code",
   "execution_count": 16,
   "outputs": [],
   "source": [
    "df_seeds = pd.read_csv(\"../data/raw/MDataFiles_Stage1/MNCAATourneySeeds.csv\")"
   ],
   "metadata": {
    "collapsed": false,
    "pycharm": {
     "name": "#%%\n"
    }
   }
  },
  {
   "cell_type": "code",
   "execution_count": 17,
   "outputs": [],
   "source": [
    "df_seeds[\"seed\"] = df_seeds['Seed'].apply(lambda x: int(x[1:3]))\n",
    "seeds_A = df_seeds[['Season','TeamID','seed']].copy()\n",
    "seeds_B = df_seeds[['Season','TeamID','seed']].copy()\n",
    "seeds_A.columns = ['Season','ATeamID','A_seed']\n",
    "seeds_B.columns = ['Season','BTeamID','B_seed']\n",
    "base_df = pd.merge(base_df, seeds_A,on = [\"Season\",\"ATeamID\"],how = \"left\")\n",
    "base_df = pd.merge(base_df, seeds_B,on = [\"Season\",\"BTeamID\"],how = \"left\")\n",
    "base_df[\"seeddiff\"] = base_df[\"A_seed\"] - base_df[\"B_seed\"]"
   ],
   "metadata": {
    "collapsed": false,
    "pycharm": {
     "name": "#%%\n"
    }
   }
  },
  {
   "cell_type": "code",
   "execution_count": 18,
   "outputs": [],
   "source": [
    "train_df = base_df.loc[\n",
    "    base_df['Season'] < 2016,\n",
    "]"
   ],
   "metadata": {
    "collapsed": false,
    "pycharm": {
     "name": "#%%\n"
    }
   }
  },
  {
   "cell_type": "code",
   "execution_count": 19,
   "outputs": [],
   "source": [
    "train_X = train_df[['A_seed', 'B_seed', 'seeddiff']]\n",
    "train_y = train_df['is_AWin']"
   ],
   "metadata": {
    "collapsed": false,
    "pycharm": {
     "name": "#%%\n"
    }
   }
  },
  {
   "cell_type": "code",
   "execution_count": 20,
   "outputs": [
    {
     "data": {
      "text/plain": "LGBMClassifier()"
     },
     "execution_count": 20,
     "metadata": {},
     "output_type": "execute_result"
    }
   ],
   "source": [
    "import lightgbm as lgbm\n",
    "\n",
    "clf = lgbm.LGBMClassifier()\n",
    "clf.fit(train_X, train_y)"
   ],
   "metadata": {
    "collapsed": false,
    "pycharm": {
     "name": "#%%\n"
    }
   }
  },
  {
   "cell_type": "code",
   "execution_count": 21,
   "outputs": [],
   "source": [
    "ssub_df = pd.read_csv(\"../data/raw/MDataFiles_Stage1/MSampleSubmissionStage1.csv\")"
   ],
   "metadata": {
    "collapsed": false,
    "pycharm": {
     "name": "#%%\n"
    }
   }
  },
  {
   "cell_type": "code",
   "execution_count": 25,
   "outputs": [],
   "source": [
    "sub_df = ssub_df['ID'].str.split(pat='_', expand=True).astype(int)\n",
    "sub_df.columns = ['Season', 'ATeamID', 'BTeamID']\n",
    "\n",
    "sub_df = pd.merge(sub_df, seeds_A,on = [\"Season\",\"ATeamID\"],how = \"left\")\n",
    "sub_df = pd.merge(sub_df, seeds_B,on = [\"Season\",\"BTeamID\"],how = \"left\")\n",
    "sub_df[\"seeddiff\"] = sub_df[\"A_seed\"] - sub_df[\"B_seed\"]"
   ],
   "metadata": {
    "collapsed": false,
    "pycharm": {
     "name": "#%%\n"
    }
   }
  },
  {
   "cell_type": "code",
   "execution_count": 35,
   "outputs": [],
   "source": [
    "test_X = sub_df[['A_seed', 'B_seed', 'seeddiff']]\n",
    "prediction = clf.predict_proba(test_X)[:, 1]\n",
    "\n",
    "ssub_df['Pred'] = prediction"
   ],
   "metadata": {
    "collapsed": false,
    "pycharm": {
     "name": "#%%\n"
    }
   }
  },
  {
   "cell_type": "code",
   "execution_count": 36,
   "outputs": [],
   "source": [
    "ssub_df.to_csv('initial_submission.csv', index=False)"
   ],
   "metadata": {
    "collapsed": false,
    "pycharm": {
     "name": "#%%\n"
    }
   }
  },
  {
   "cell_type": "code",
   "execution_count": null,
   "outputs": [],
   "source": [],
   "metadata": {
    "collapsed": false,
    "pycharm": {
     "name": "#%%\n"
    }
   }
  }
 ],
 "metadata": {
  "kernelspec": {
   "display_name": "Python 3",
   "language": "python",
   "name": "python3"
  },
  "language_info": {
   "codemirror_mode": {
    "name": "ipython",
    "version": 2
   },
   "file_extension": ".py",
   "mimetype": "text/x-python",
   "name": "python",
   "nbconvert_exporter": "python",
   "pygments_lexer": "ipython2",
   "version": "2.7.6"
  }
 },
 "nbformat": 4,
 "nbformat_minor": 0
}